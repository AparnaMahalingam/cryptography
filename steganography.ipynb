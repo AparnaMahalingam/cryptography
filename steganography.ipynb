{
 "cells": [
  {
   "cell_type": "markdown",
   "metadata": {},
   "source": [
    "# Steganography -- the art of hiding in plain sight"
   ]
  },
  {
   "cell_type": "code",
   "execution_count": 7,
   "metadata": {
    "collapsed": true
   },
   "outputs": [],
   "source": [
    "def matrix_8n(plaintext, key):\n",
    "    # plaintext is a string\n",
    "    \n",
    "    lst_key = [int(i) for i in list(key)]\n",
    "    maxkey = max(lst_key)\n",
    "    # print(maxkey)\n",
    "    \n",
    "    decrypted = ''\n",
    "\n",
    "    for char in range(0, len(plaintext), maxkey):\n",
    "        for cols in range(char, char+maxkey): # compare with key in this loop\n",
    "            \n",
    "            if char == (len(plaintext)-1): # check if we are at the last character\n",
    "                print(plaintext[cols])\n",
    "                break\n",
    "                \n",
    "            secret_char = cols + 1 # to make the positions 1 to 8 (or they'd remain 0 to 7)\n",
    "            secret_char = secret_char - char # this is normalizing char_nums to [1,8]     \n",
    "                \n",
    "            if secret_char == lst_key[char//maxkey]:\n",
    "                decrypted += plaintext[cols]\n",
    "                print('\\033[1m' + plaintext[cols] + '\\033[0m' + ' ', end='')    \n",
    "            else:\n",
    "                print(plaintext[cols] + ' ', end='')\n",
    "\n",
    "        print()\n",
    "     \n",
    "    return(decrypted)"
   ]
  },
  {
   "cell_type": "code",
   "execution_count": 8,
   "metadata": {},
   "outputs": [
    {
     "name": "stdout",
     "output_type": "stream",
     "text": [
      "i t h o u g \u001b[1mh\u001b[0m t \n",
      "t o s e e t h \u001b[1me\u001b[0m \n",
      "f a i r i e \u001b[1ms\u001b[0m i \n",
      "n t h e f \u001b[1mi\u001b[0m e l \n",
      "d s b u \u001b[1mt\u001b[0m i s a \n",
      "w o n l y \u001b[1mt\u001b[0m h e \n",
      "e v i l \u001b[1me\u001b[0m l e p \n",
      "h a n \u001b[1mt\u001b[0m s w i t \n",
      "h t \u001b[1mh\u001b[0m e i r b l \n",
      "a c k \u001b[1mb\u001b[0m a c k s \n",
      "w o \u001b[1me\u001b[0m h o w t h \n",
      "a \u001b[1mt\u001b[0m s i g h t a \n",
      "\u001b[1mw\u001b[0m e d m e t h e \n",
      "\u001b[1me\u001b[0m l v e s d a n \n",
      "c \u001b[1me\u001b[0m d a l l a r \n",
      "o u \u001b[1mn\u001b[0m d a n d a \n",
      "b o u \u001b[1mt\u001b[0m w h i l \n",
      "e i \u001b[1mh\u001b[0m e a r d v \n",
      "o i c \u001b[1me\u001b[0m s c a l \n",
      "l i n g \u001b[1mc\u001b[0m l e a \n",
      "r l y a h \u001b[1mh\u001b[0m o w \n",
      "i t r i \u001b[1me\u001b[0m d t o \n",
      "s e e t h \u001b[1mr\u001b[0m o w \n",
      "o f f t h e \u001b[1mu\u001b[0m g \n",
      "l y c l o u d \u001b[1mb\u001b[0m \n",
      "u t n o b l \u001b[1mi\u001b[0m n \n",
      "d e y e o f a \u001b[1mm\u001b[0m \n",
      "o r t a l w a \u001b[1ms\u001b[0m \n",
      "p e r m i t \u001b[1mt\u001b[0m e \n",
      "d t o s p y t \u001b[1mh\u001b[0m \n",
      "e m s o t h \u001b[1me\u001b[0m n \n",
      "c a m e m \u001b[1mi\u001b[0m n s \n",
      "t r e l \u001b[1ms\u001b[0m h a v \n",
      "i n g g o \u001b[1ml\u001b[0m d t \n",
      "r u m p \u001b[1me\u001b[0m t s h \n",
      "a r p \u001b[1ms\u001b[0m a n d d \n",
      "r u \u001b[1mm\u001b[0m s t h e s \n",
      "e p l \u001b[1ma\u001b[0m y e d v \n",
      "e r \u001b[1my\u001b[0m l o u d l \n",
      "y \u001b[1mb\u001b[0m e s i d e m \n",
      "\u001b[1me\u001b[0m b r e a k i n \n",
      "\u001b[1mg\u001b[0m t h a t s p e \n",
      "l \u001b[1ml\u001b[0m s o t h e d \n",
      "r e \u001b[1ma\u001b[0m m v a n i \n",
      "s h e \u001b[1md\u001b[0m w h e r \n",
      "e a \u001b[1mt\u001b[0m i t h a n \n",
      "k e d \u001b[1mh\u001b[0m e a v e \n",
      "n i s h \u001b[1me\u001b[0m d m a \n",
      "n y t e a \u001b[1mr\u001b[0m s b \n",
      "e f o r \u001b[1me\u001b[0m t h e \n",
      "t h i n m \u001b[1mo\u001b[0m o n \n",
      "r o s e u p \u001b[1mf\u001b[0m r \n",
      "a i l a n d f \u001b[1ma\u001b[0m \n",
      "i n t a s a \u001b[1ms\u001b[0m i \n",
      "c k l e o f s \u001b[1mt\u001b[0m \n",
      "r a w n o w t \u001b[1mh\u001b[0m \n",
      "o u g h t t \u001b[1mh\u001b[0m e \n",
      "e n c h a n t \u001b[1me\u001b[0m \n",
      "r g n a s h \u001b[1mh\u001b[0m i \n",
      "s t e e t \u001b[1mh\u001b[0m v a \n",
      "i n l y \u001b[1my\u001b[0m e t h \n",
      "e s h a l \u001b[1ml\u001b[0m r e \n",
      "t u r n \u001b[1ma\u001b[0m s t h \n",
      "e s p \u001b[1mr\u001b[0m i n g r \n",
      "e t u \u001b[1mr\u001b[0m n s o h \n",
      "w r \u001b[1me\u001b[0m t c h e d \n",
      "m a \u001b[1mn\u001b[0m h e l l g \n",
      "a \u001b[1mp\u001b[0m e s e r e b \n",
      "\u001b[1mu\u001b[0m s n o w l i e \n",
      "\u001b[1ms\u001b[0m o p e n t h e \n",
      "m \u001b[1mo\u001b[0m u t h s o f \n",
      "d e \u001b[1ma\u001b[0m t h w a i \n",
      "t o n \u001b[1mt\u001b[0m h y e n \n",
      "d\n",
      "\n",
      "hesittethbetweenthecherubimstheislesmaybegladthereofasthhehhylarrenpusoat\n"
     ]
    }
   ],
   "source": [
    "key = '7876565434321123434565678788787656543432112343456567878878765654433211234'\n",
    "plaintext = \"\"\"ithoughttoseethefairiesinthefieldsbutisawonlytheevilelephantswiththeirblackbackswoehowthatsightawedmetheelvesdancedallaroundandaboutwhileiheardvoicescallingclearlyahhowitriedtoseethrowofftheuglycloudbutnoblindeyeofamortalwaspermittedtospythemsothencameminstrelshavinggoldtrumpetsharpsanddrumstheseplayedveryloudlybesidemebreakingthatspellsothedreamvanishedwhereatithankedheavenishedmanytearsbeforethethinmoonroseupfrailandfaintasasickleofstrawnowthoughttheenchantergnashhisteethvainlyyetheshallreturnasthespringreturnsohwretchedmanhellgapeserebusnowliesopenthemouthsofdeathwaitonthyend\"\"\"\n",
    "print(matrix_8n(plaintext, key))"
   ]
  },
  {
   "cell_type": "code",
   "execution_count": null,
   "metadata": {
    "collapsed": true
   },
   "outputs": [],
   "source": []
  }
 ],
 "metadata": {
  "kernelspec": {
   "display_name": "Python 3",
   "language": "python",
   "name": "python3"
  },
  "language_info": {
   "codemirror_mode": {
    "name": "ipython",
    "version": 3
   },
   "file_extension": ".py",
   "mimetype": "text/x-python",
   "name": "python",
   "nbconvert_exporter": "python",
   "pygments_lexer": "ipython3",
   "version": "3.6.1"
  }
 },
 "nbformat": 4,
 "nbformat_minor": 2
}
